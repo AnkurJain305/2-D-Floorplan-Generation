{
 "cells": [
  {
   "cell_type": "code",
   "execution_count": 65,
   "id": "9cefc421-2fae-4fb3-a0cc-5565e5ccc1c7",
   "metadata": {},
   "outputs": [],
   "source": [
    "# for data wrangling\n",
    "import pickle\n",
    "import networkx as nx\n",
    "import matplotlib.pyplot as plt\n",
    "import numpy as np\n",
    "import pandas as pd\n",
    "import distinctipy\n",
    "from torch_geometric.utils import from_networkx\n",
    "\n",
    "# to show advance in for loops\n",
    "from tqdm import tqdm\n",
    "\n",
    "# Using pytorch geometric\n",
    "import torch\n",
    "import torch.nn as nn\n",
    "from torch_geometric.loader import DataLoader\n",
    "from torch_geometric.data import Data, Batch\n",
    "from torch.utils.data import Dataset\n",
    "import torch_geometric.transforms as T\n",
    "\n",
    "\n",
    "# For the GNN model\n",
    "import torch.nn.functional as F\n",
    "from torch_geometric.nn import GATConv\n",
    "\n",
    "from shapely.geometry import Polygon\n",
    "from shapely.ops import unary_union\n",
    "import geopandas as gpd\n",
    "from collections import defaultdict\n",
    "from shapely.geometry import box\n",
    "from shapely.geometry import MultiPolygon\n",
    "\n",
    "\n",
    "\n",
    "\n",
    "# for my pc\n",
    "url_living_to_all = \"/workspace/Floor_plan_generation/dataset/Planify_Graphs_Scaled/Planify_Graphs_Scaled/Graphs_living_to_all.pkl\"\n",
    "url_boundary = r\"/workspace/Floor_plan_generation/dataset/Planify_Graphs_Scaled/Planify_Graphs_Scaled/boundaries.pkl\"\n",
    "model_path = \"/workspace/Floor_plan_generation/best_model.pth\"\n"
   ]
  },
  {
   "cell_type": "code",
   "execution_count": 20,
   "id": "0f493c68-a110-4fbf-88c6-130452d36047",
   "metadata": {},
   "outputs": [],
   "source": [
    "geoms_columns = ['inner', 'living', 'master', 'kitchen', 'bathroom', 'dining', 'child', 'study',\n",
    "                   'second_room', 'guest', 'balcony', 'storage', 'wall-in',\n",
    "                    'outer_wall', 'front', 'inner_wall', 'interior',\n",
    "                   'front_door', 'outer_wall', 'entrance']\n",
    "\n",
    "N = len(geoms_columns)\n",
    "colors = (np.array(distinctipy.get_colors(N)) * 255).astype(np.uint8)\n",
    "room_color = {room_name: colors[i] for i, room_name in enumerate(geoms_columns)}"
   ]
  },
  {
   "cell_type": "code",
   "execution_count": 21,
   "id": "9973fbd1-ed2c-4ba0-82a7-ee37cc6e6934",
   "metadata": {},
   "outputs": [],
   "source": [
    "def draw_graph_nodes(G, living_to_all=False):\n",
    "    #  nodes positions for drawing, note that we invert the y pos\n",
    "    pos = {node: (G.nodes[node]['actualCentroid_x'], -G.nodes[node]['actualCentroid_y']) for node in G.nodes}\n",
    "    \n",
    "    scales = [G.nodes[node]['roomSize'] * 10000 for node in G] \n",
    "    color_map = [room_color[G.nodes[node]['roomType_name']]/255 for node in G]\n",
    "    edge_labels = nx.get_edge_attributes(G, 'distance')\n",
    "\n",
    "    \n",
    "    nx.draw_networkx_nodes(G, pos=pos, node_size=scales, node_color=color_map);\n",
    "    nx.draw_networkx_edges(G, pos=pos, edge_color='b');\n",
    "    nx.draw_networkx_labels(G, pos=pos, font_size=8);\n",
    "\n",
    "    if living_to_all:\n",
    "        nx.draw_networkx_edge_labels(G, pos=pos, edge_labels=edge_labels)\n",
    "\n",
    "    \n",
    "    # # Drawing the graph inside a good boundary.\n",
    "    # x_coords  = [pos[node][0] for node in pos]\n",
    "    # y_coords  = [pos[node][1] for node in pos]\n",
    "    # threshold = max(scales) / 100\n",
    "    \n",
    "    # plt.xlim(min(x_coords) - threshold, max(x_coords) + threshold)\n",
    "    plt.xlim(-10, 266)\n",
    "    plt.ylim(-266, 10)\n",
    "\n",
    "def draw_graph_boundary(G):\n",
    "    #  nodes positions for drawing, note that we invert the y pos\n",
    "    pos = {node: (G.nodes[node]['centroid'][0], -G.nodes[node]['centroid'][1])  for node in G.nodes}\n",
    "    \n",
    "    door_color = '#90EE90'\n",
    "    other_nodes_color = '#0A2A5B'\n",
    "    color_map = [door_color if G.nodes[node]['type'] == 1 else other_nodes_color for node in G.nodes]\n",
    "    \n",
    "    # nx.draw(G, pos=pos, with_labels=True, node_color=color_map, font_color='w', font_size=12)\n",
    "    nx.draw_networkx_nodes(G, pos=pos, node_size=150, node_color=color_map);\n",
    "    nx.draw_networkx_edges(G, pos=pos)\n",
    "    \n",
    "    plt.xlim(-10, 266)\n",
    "    plt.ylim(-266, 10)\n",
    "\n",
    "\n",
    "\n",
    "# For statistics\n",
    "def get_max_min_x_y(graphs):\n",
    "    max_x = 0\n",
    "    max_y = 0\n",
    "    min_x = float('inf')\n",
    "    min_y = float('inf')\n",
    "    \n",
    "    for G in tqdm(graphs, desc=\"Getting maximum x, y\", total=len(graphs)):\n",
    "        max_x_in_graph = G.x.T[1].max().item()\n",
    "        max_y_in_graph = G.x.T[2].max().item()\n",
    "        \n",
    "        min_x_in_graph = G.x.T[1].min().item()\n",
    "        min_y_in_graph = G.x.T[2].min().item()\n",
    "        \n",
    "        if max_x_in_graph > max_x:\n",
    "            max_x = max_x_in_graph\n",
    "        if max_y_in_graph > max_y:\n",
    "            max_y = max_y_in_graph\n",
    "            \n",
    "        if min_x_in_graph < min_x:\n",
    "            min_x = min_x_in_graph\n",
    "        if min_y_in_graph < min_y:\n",
    "            min_y = min_y_in_graph\n",
    "            \n",
    "    values = {'max_x': max_x, 'max_y': max_y, 'min_x': min_x, 'min_y': min_y}\n",
    "    return values\n",
    "\n",
    "\n",
    "def get_all_x_y(Graphs_pyTorch):\n",
    "    \"\"\"Get all values of x and y from all graphs\n",
    "        Input: list of graphs\n",
    "        Output: x and y as pandas series\n",
    "    \"\"\"\n",
    "    x = []\n",
    "    y = []\n",
    "\n",
    "    for G in tqdm(Graphs_pyTorch, desc=\"getting all Xs, Ys\", total=len(Graphs_pyTorch)):\n",
    "        for i in range(len(G.x)):\n",
    "            x.append(G.x[i][1].item())\n",
    "            y.append(G.x[i][2].item())\n",
    "\n",
    "    x = pd.Series(x)\n",
    "    y = pd.Series(y)\n",
    "\n",
    "    return x, y\n",
    "\n",
    "def boxplot_centrValues(x, y):\n",
    "    fig, ax = plt.subplots()\n",
    "\n",
    "    # Plot the boxplots\n",
    "    ax.boxplot([x, y])\n",
    "\n",
    "    # Set the xtick labels\n",
    "    ax.set_xticklabels(['x', 'y'])\n",
    "\n",
    "    # Add axis labels and title\n",
    "    ax.set_xlabel('Data')\n",
    "    ax.set_ylabel('Value')\n",
    "    ax.set_title('Boxplot of x and y in all graphs')\n",
    "\n",
    "    # Show the plot\n",
    "    plt.show()\n",
    "    \n",
    "\n",
    "def plot_histograms(x, y):\n",
    "    x.hist(density=True, bins=100, alpha=0.6, label='x');\n",
    "    y.hist(density=True, bins=100, alpha=0.3, label='y');\n",
    "    plt.legend();\n",
    "    plt.title('Distribution of x and y');"
   ]
  },
  {
   "cell_type": "code",
   "execution_count": 22,
   "id": "7d8a583e-f371-45f3-a7d7-181a749ef1c7",
   "metadata": {},
   "outputs": [
    {
     "name": "stdout",
     "output_type": "stream",
     "text": [
      "Graph with 8 nodes and 7 edges\n"
     ]
    }
   ],
   "source": [
    "with open(url_living_to_all, 'rb') as f:\n",
    "    Graphs = pickle.load(f)\n",
    "    \n",
    "G = Graphs[1911]\n",
    "print(G)"
   ]
  },
  {
   "cell_type": "code",
   "execution_count": 23,
   "id": "adccb51b-90e1-4c4e-8dc4-6923cf627048",
   "metadata": {},
   "outputs": [
    {
     "name": "stdout",
     "output_type": "stream",
     "text": [
      "Graph with 9 nodes and 9 edges\n"
     ]
    }
   ],
   "source": [
    "with open(url_boundary, 'rb') as f:\n",
    "    boundaries = pickle.load(f)\n",
    "    \n",
    "b = boundaries[1911]\n",
    "print(b)"
   ]
  },
  {
   "cell_type": "code",
   "execution_count": 24,
   "id": "19e38a38-284d-4e3f-a15e-3d4cc4dd4d85",
   "metadata": {},
   "outputs": [
    {
     "data": {
      "image/png": "[encoded data removed]",
      "text/plain": [
       "<Figure size 640x480 with 1 Axes>"
      ]
     },
     "metadata": {},
     "output_type": "display_data"
    }
   ],
   "source": [
    "draw_graph_boundary(b)\n",
    "draw_graph_nodes(G)"
   ]
  },
  {
   "cell_type": "code",
   "execution_count": 25,
   "id": "bf11806e-6f34-4731-9601-5c0a4b27f818",
   "metadata": {},
   "outputs": [
    {
     "name": "stderr",
     "output_type": "stream",
     "text": [
      "\n",
      "00%|██████████████████████████████████████████████████████████████████████████████████████████████████████████████████████████████████████████████████████████████████████| 80787/80787 [00:37<00:00, 2146.73it/s]"
     ]
    },
    {
     "data": {
      "text/plain": [
       "Data(edge_index=[2, 8], roomType_name=[5], rec_w=[5], rec_h=[5], roomSize=[5], x=[5, 3], edge_attr=[8, 1])"
      ]
     },
     "execution_count": 25,
     "metadata": {},
     "output_type": "execute_result"
    }
   ],
   "source": [
    "# Converting networkx graphs to pytorchGeo graphs\n",
    "features = ['roomType_embd', 'actualCentroid_x', 'actualCentroid_y']\n",
    "Graphs_pyTorch = []\n",
    "for G in tqdm(Graphs):\n",
    "    G_new = from_networkx(G, group_node_attrs=features, group_edge_attrs=['distance'])\n",
    "    # Normalizing feature matrix (x)\n",
    "    # G_new = T.NormalizeFeatures()(G_new)\n",
    "    \n",
    "    Graphs_pyTorch.append(G_new)\n",
    "    \n",
    "Graphs_pyTorch[0]"
   ]
  },
  {
   "cell_type": "code",
   "execution_count": 26,
   "id": "b55332ac-8f89-4b19-9a76-eb0ef8a07bf4",
   "metadata": {},
   "outputs": [
    {
     "name": "stderr",
     "output_type": "stream",
     "text": [
      "\n",
      "00%|██████████████████████████████████████████████████████████████████████████████████████████████████████████████████████████████████████████████████████████████████████| 80787/80787 [00:48<00:00, 1653.39it/s]"
     ]
    },
    {
     "data": {
      "text/plain": [
       "Data(edge_index=[2, 18], x=[9, 3], edge_attr=[18, 1])"
      ]
     },
     "execution_count": 26,
     "metadata": {},
     "output_type": "execute_result"
    }
   ],
   "source": [
    "# Converting networkx boundary graphs to PyTorchGeo graphs\n",
    "Boundaries_pyTorch = []\n",
    "for b in tqdm(boundaries):\n",
    "    b_new = from_networkx(b, group_node_attrs=['type', 'centroid'], group_edge_attrs=['distance'])\n",
    "    \n",
    "    Boundaries_pyTorch.append(b_new)\n",
    "    \n",
    "Boundaries_pyTorch[0]"
   ]
  },
  {
   "cell_type": "code",
   "execution_count": 27,
   "id": "ff0e532b-0009-47c1-9518-3bfbe1e4df20",
   "metadata": {},
   "outputs": [
    {
     "name": "stderr",
     "output_type": "stream",
     "text": [
      "\n",
      "etting maximum x, y: 100%|███████████████████████████████████████████████████████████████████████████████████████████████████████████████████████████████████████████████| 80787/80787 [00:03<00:00, 24239.51it/s]"
     ]
    },
    {
     "data": {
      "text/plain": [
       "{'max_x': 247.42583732057415,\n",
       " 'max_y': 247.84313725490196,\n",
       " 'min_x': 10.666666666666666,\n",
       " 'min_y': 8.577319587628866}"
      ]
     },
     "execution_count": 27,
     "metadata": {},
     "output_type": "execute_result"
    }
   ],
   "source": [
    "# getting maximum and minimum x, y for all graphs\n",
    "get_max_min_x_y(Graphs_pyTorch)"
   ]
  },
  {
   "cell_type": "code",
   "execution_count": 28,
   "id": "be63f36a-4280-4098-b3cd-8ca26151fe99",
   "metadata": {},
   "outputs": [
    {
     "name": "stderr",
     "output_type": "stream",
     "text": [
      "\n",
      "etting all Xs, Ys: 100%|█████████████████████████████████████████████████████████████████████████████████████████████████████████████████████████████████████████████████| 80787/80787 [00:04<00:00, 17114.80it/s]"
     ]
    },
    {
     "data": {
      "text/plain": [
       "(247.42583732057415, 247.84313725490196, 10.666666666666666, 8.577319587628866)"
      ]
     },
     "execution_count": 28,
     "metadata": {},
     "output_type": "execute_result"
    }
   ],
   "source": [
    "x_g, y_g = get_all_x_y(Graphs_pyTorch)\n",
    "x_g.max(), y_g.max(), x_g.min(), y_g.min()"
   ]
  },
  {
   "cell_type": "code",
   "execution_count": 29,
   "id": "a18ebba3-bb37-4054-8b26-c8cc9e7a2b9d",
   "metadata": {},
   "outputs": [
    {
     "data": {
      "image/png": "[encoded data removed]",
      "text/plain": [
       "<Figure size 640x480 with 1 Axes>"
      ]
     },
     "metadata": {},
     "output_type": "display_data"
    }
   ],
   "source": [
    "# making box plot for x and y for the graphs\n",
    "boxplot_centrValues(x_g, y_g)"
   ]
  },
  {
   "cell_type": "code",
   "execution_count": 30,
   "id": "ff3f72e7-3326-484e-b607-087961b335f4",
   "metadata": {},
   "outputs": [
    {
     "data": {
      "image/png": "[encoded data removed]",
      "text/plain": [
       "<Figure size 640x480 with 1 Axes>"
      ]
     },
     "metadata": {},
     "output_type": "display_data"
    }
   ],
   "source": [
    "plot_histograms(x_g, y_g)"
   ]
  },
  {
   "cell_type": "code",
   "execution_count": 31,
   "id": "f0907e35-9ff4-4100-a20f-846edac3651d",
   "metadata": {},
   "outputs": [
    {
     "name": "stdout",
     "output_type": "stream",
     "text": [
      "And we saw the box plots so there is no outliers, and the distribution is normal\n",
      "We will use z-score normalization\n"
     ]
    }
   ],
   "source": [
    "# print(f\"Maximun x: {max_x}, Maximum y: {max_y}, Minimum x: {min_x}, Minimum y: {min_y}\")\n",
    "print(\"And we saw the box plots so there is no outliers, and the distribution is normal\")\n",
    "x_g_mean = x_g.mean()\n",
    "y_g_mean = y_g.mean()\n",
    "x_g_std  = x_g.std()\n",
    "y_g_std  = y_g.std()\n",
    "print(\"We will use z-score normalization\")"
   ]
  },
  {
   "cell_type": "code",
   "execution_count": 32,
   "id": "a87d7ee1-907e-4605-beb4-3108d2250fe6",
   "metadata": {},
   "outputs": [
    {
     "name": "stdout",
     "output_type": "stream",
     "text": [
      "Befor: G_1 embedings are: tensor([[  0.0000, 114.4449, 153.2065],\n",
      "        [  1.0000, 207.2296, 196.9931],\n",
      "        [  2.0000,  26.6358,  34.7746],\n",
      "        [  3.0000, 222.7052, 140.5780],\n",
      "        [  3.0000, 117.2607, 101.8013],\n",
      "        [  7.0000, 163.5824, 101.4260],\n",
      "        [  7.0000, 134.9086, 201.0376]], dtype=torch.float64)\n"
     ]
    },
    {
     "name": "stderr",
     "output_type": "stream",
     "text": [
      "100%|█████████████████████████████████████████████████████████████████████████████████████████████████████████████████████████████████████████████████████████████████████| 80787/80787 [00:03<00:00, 22063.36it/s]"
     ]
    },
    {
     "name": "stdout",
     "output_type": "stream",
     "text": [
      "After: G_1 embedings are: tensor([[  0.0000, 114.4449, 153.2065],\n",
      "        [  1.0000, 207.2296, 196.9931],\n",
      "        [  2.0000,  26.6358,  34.7746],\n",
      "        [  3.0000, 222.7052, 140.5780],\n",
      "        [  3.0000, 117.2607, 101.8013],\n",
      "        [  1.0000, 163.5824, 101.4260],\n",
      "        [  1.0000, 134.9086, 201.0376]], dtype=torch.float64)\n"
     ]
    },
    {
     "name": "stderr",
     "output_type": "stream",
     "text": [
      "\n"
     ]
    }
   ],
   "source": [
    "print(f'Befor: G_1 embedings are: {Graphs_pyTorch[1].x}')\n",
    "for G in tqdm(Graphs_pyTorch, total=len(Graphs_pyTorch)):\n",
    "    for j ,value in enumerate(G.x):\n",
    "        type_ = int(value[0].item())\n",
    "        \n",
    "        if type_ in [1, 4, 5, 6, 7, 8]:\n",
    "            G.x[j][0] = 1\n",
    "        \n",
    "        # making all labels from 0 to 6 only to help one_hotting\n",
    "        elif type_ == 9:\n",
    "            G.x[j][0] = 4\n",
    "        elif type_ == 10:\n",
    "            G.x[j][0] = 5\n",
    "        elif type_ == 11:\n",
    "            G.x[j][0] = 6\n",
    "\n",
    "\n",
    "print(f'After: G_1 embedings are: {Graphs_pyTorch[1].x}')"
   ]
  },
  {
   "cell_type": "code",
   "execution_count": 33,
   "id": "d868695b-b125-4da8-8cfc-a76aa9445bec",
   "metadata": {},
   "outputs": [
    {
     "name": "stderr",
     "output_type": "stream",
     "text": [
      "\n",
      "00%|██████████████████████████████████████████████████████████████████████████████████████████████████████████████████████████████████████████████████████████████████████| 80787/80787 [00:08<00:00, 9957.84it/s]"
     ]
    }
   ],
   "source": [
    "for G in tqdm(Graphs_pyTorch, total=len(Graphs_pyTorch)):\n",
    "    x = G.x # The feature matrix\n",
    "    for i in [1, 2]:\n",
    "        # mean = torch.mean(x[:, i])\n",
    "        # std  = torch.std(x[:, i])\n",
    "        if i == 1: # x\n",
    "            mean = x_g_mean\n",
    "            std  = x_g_std\n",
    "        else: # y\n",
    "            mean = y_g_mean\n",
    "            std  = y_g_std\n",
    "            \n",
    "        normalized_column = (x[:, i] - mean) / std\n",
    "        G.x[:, i] = normalized_column\n",
    "    \n",
    "    # One hot encoding for the first column [type of rooms]\n",
    "    first_column_encodings = F.one_hot(G.x[:, 0].long(), 7)\n",
    "    \n",
    "    G.x = torch.cat([first_column_encodings, G.x[:, 1:]], axis=1)"
   ]
  },
  {
   "cell_type": "code",
   "execution_count": 34,
   "id": "17a043a4-e36d-4ea7-a6bd-a914e1e5f9ba",
   "metadata": {},
   "outputs": [
    {
     "name": "stdout",
     "output_type": "stream",
     "text": [
      "Now, we could return back to real values for last column: tensor([153.2065, 196.9931,  34.7746, 140.5780, 101.8013, 101.4260, 201.0376],\n",
      "       dtype=torch.float64)\n"
     ]
    }
   ],
   "source": [
    "print(f\"Now, we could return back to real values for last column: {Graphs_pyTorch[1].x.T[-1] * y_g_std + y_g_mean}\")"
   ]
  },
  {
   "cell_type": "code",
   "execution_count": 35,
   "id": "f01193bc-6a22-4da2-984d-82577d4308d8",
   "metadata": {},
   "outputs": [
    {
     "name": "stderr",
     "output_type": "stream",
     "text": [
      "\n",
      "etting all Xs, Ys: 100%|██████████████████████████████████████████████████████████████████████████████████████████████████████████████████████████████████████████████████| 80787/80787 [00:09<00:00, 8278.82it/s]"
     ]
    },
    {
     "data": {
      "text/plain": [
       "(340.0875912408759, 306.0, -57.6, -86.6771653543307)"
      ]
     },
     "execution_count": 35,
     "metadata": {},
     "output_type": "execute_result"
    }
   ],
   "source": [
    "x, y = get_all_x_y(Boundaries_pyTorch)\n",
    "x.max(), y.max(), x.min(), y.min()"
   ]
  },
  {
   "cell_type": "code",
   "execution_count": 36,
   "id": "1c35a4d4-d7ad-49a0-ac21-1ba4dd94ffc9",
   "metadata": {},
   "outputs": [
    {
     "data": {
      "image/png": "[encoded data removed]",
      "text/plain": [
       "<Figure size 640x480 with 1 Axes>"
      ]
     },
     "metadata": {},
     "output_type": "display_data"
    }
   ],
   "source": [
    "boxplot_centrValues(x, y)"
   ]
  },
  {
   "cell_type": "code",
   "execution_count": 37,
   "id": "7d640e70-991e-465b-83c6-18e2b9e9bb7e",
   "metadata": {},
   "outputs": [
    {
     "data": {
      "image/png": "[encoded data removed]",
      "text/plain": [
       "<Figure size 640x480 with 1 Axes>"
      ]
     },
     "metadata": {},
     "output_type": "display_data"
    }
   ],
   "source": [
    "plot_histograms(x, y)"
   ]
  },
  {
   "cell_type": "code",
   "execution_count": 38,
   "id": "8e41eddb-4898-4f3b-966f-44ed987d19f4",
   "metadata": {},
   "outputs": [
    {
     "name": "stdout",
     "output_type": "stream",
     "text": [
      "And we saw the box plots so there is no outliers, and the distribution is normal\n",
      "We will use z-score normalization\n"
     ]
    }
   ],
   "source": [
    "# print(f\"Maximun x: {max_x}, Maximum y: {max_y}, Minimum x: {min_x}, Minimum y: {min_y}\")\n",
    "print(\"And we saw the box plots so there is no outliers, and the distribution is normal\")\n",
    "x_b_mean = x.mean()\n",
    "y_b_mean = y.mean()\n",
    "x_b_std  = x.std()\n",
    "y_b_std  = y.std()\n",
    "print(\"We will use z-score normalization\")"
   ]
  },
  {
   "cell_type": "code",
   "execution_count": 39,
   "id": "4c25fcd2-0abd-4713-a59c-4e58448bafa6",
   "metadata": {},
   "outputs": [
    {
     "name": "stderr",
     "output_type": "stream",
     "text": [
      "\n",
      "00%|█████████████████████████████████████████████████████████████████████████████████████████████████████████████████████████████████████████████████████████████████████| 80787/80787 [00:03<00:00, 22277.60it/s]"
     ]
    }
   ],
   "source": [
    "for b in tqdm(Boundaries_pyTorch, total=len(Boundaries_pyTorch)):\n",
    "    x = b.x # The feature matrix\n",
    "    for i in [1, 2]:\n",
    "        if i == 1: # for first column [x]\n",
    "            mean = x_b_mean\n",
    "            std  = x_b_std\n",
    "        else: # for second column [y]\n",
    "            mean = y_b_mean\n",
    "            std  = y_b_std\n",
    "            \n",
    "        normalized_column = (x[:, i] - mean) / std\n",
    "        b.x[:, i] = normalized_column"
   ]
  },
  {
   "cell_type": "code",
   "execution_count": 40,
   "id": "79ac90f4-9a95-4fe6-ba95-de9e023bcf40",
   "metadata": {},
   "outputs": [
    {
     "name": "stdout",
     "output_type": "stream",
     "text": [
      "Now, we could return back to real values: tensor([  3.6994, 101.3642, 252.3006, 252.3006, 197.5491, 197.5491,  49.5723,\n",
      "         49.5723,   3.6994,  86.5665], dtype=torch.float64)\n"
     ]
    }
   ],
   "source": [
    "print(f\"Now, we could return back to real values: {Boundaries_pyTorch[1].x.T[-2] * x_b_std + x_b_mean}\")"
   ]
  },
  {
   "cell_type": "code",
   "execution_count": 41,
   "id": "3ec2b949-7fa1-406d-a58f-827406d9d754",
   "metadata": {},
   "outputs": [],
   "source": [
    "class Planify_Dataset(Dataset):\n",
    "    def __init__(self, Graphs, Boundaries):\n",
    "        self.Graphs = Graphs\n",
    "        self.Boundaries = Boundaries\n",
    "        self.device = torch.device('cuda' if torch.cuda.is_available() else 'cpu')\n",
    "    \n",
    "    def __len__(self):\n",
    "        return len(self.Graphs)\n",
    "\n",
    "    def __getitem__(self, index):\n",
    "        G = self.Graphs[index].clone().to(self.device)\n",
    "        B = self.Boundaries[index].clone().to(self.device)\n",
    "        B.x = B.x.to(G.x.dtype)\n",
    "        B.edge_index = B.edge_index.to(G.edge_index.dtype)\n",
    "        B.edge_attr = B.edge_attr.to(G.edge_attr.dtype)\n",
    "        \n",
    "        # shuffling nodes inside the same graph\n",
    "        # permutation = torch.randperm(G.num_nodes).to(self.device)\n",
    "        \n",
    "        # G.x = G.x[permutation]\n",
    "        # G.edge_index = permutation[G.edge_index]\n",
    "        # G.rec_w = G.rec_w[permutation]\n",
    "        # G.rec_h = G.rec_h[permutation]\n",
    "        # G.edge_attr = G.edge_attr[permutation]\n",
    "        \n",
    "        # padded_x = torch.nn.functional.pad(x, pad=(0, 0, 0, 8 - nu_nodes), mode='constant', value=0)\n",
    "        # padded_y = torch.nn.functional.pad(y, pad=(0, 8 - nu_nodes), mode='constant', value=0)\n",
    "        graphs = {\n",
    "            'G': G,\n",
    "            'B': B\n",
    "        }\n",
    "        \n",
    "        return graphs"
   ]
  },
  {
   "cell_type": "code",
   "execution_count": 42,
   "id": "49d25a74-56ed-4314-9485-eee0a420263e",
   "metadata": {},
   "outputs": [],
   "source": [
    "edge = int(len(Graphs_pyTorch) * 0.8)"
   ]
  },
  {
   "cell_type": "code",
   "execution_count": 43,
   "id": "06438ec8-b033-4a04-baf5-bfdba98c3236",
   "metadata": {},
   "outputs": [],
   "source": [
    "batch_size = 1\n",
    "train_dataset = Planify_Dataset(Graphs_pyTorch[:edge], Boundaries_pyTorch[:edge])\n",
    "train_loader  = DataLoader(train_dataset, batch_size=batch_size, shuffle=True)\n",
    "\n",
    "val_dataset = Planify_Dataset(Graphs_pyTorch[edge:-10], Boundaries_pyTorch[edge:-10])\n",
    "val_loader  = DataLoader(val_dataset, batch_size=batch_size, shuffle=True)\n",
    "\n",
    "test_dataset = Planify_Dataset(Graphs_pyTorch[-10:], Boundaries_pyTorch[-10:])\n",
    "test_loader  = DataLoader(test_dataset, batch_size=batch_size, shuffle=False)"
   ]
  },
  {
   "cell_type": "code",
   "execution_count": 44,
   "id": "3ec9ed7c-127b-4d33-ae9b-1c24c88c0587",
   "metadata": {},
   "outputs": [],
   "source": [
    "# Saving model function\n",
    "import os\n",
    "\n",
    "# checkpoint_dir = '/kaggle/working/checkpoints'\n",
    "# checkpoint_dir = '/media/mo/DATA/Grad/Planify_Dataset/Graph/checkpoints'\n",
    "checkpoint_dir = \"./checkpoints\"\n",
    "\n",
    "if not os.path.exists(checkpoint_dir):\n",
    "    os.makedirs(checkpoint_dir)\n",
    "    \n",
    "\n",
    "def save_checkpoint(model, optimizer, epoch):\n",
    "    checkpoint_path = os.path.join(checkpoint_dir, f'model_epoch.pt')\n",
    "    # Saving model each 15 epochs\n",
    "    torch.save({\n",
    "        'model_state_dict': model.state_dict(),\n",
    "        'optimizer_state_dict': optimizer.state_dict(),\n",
    "        'epoch': epoch\n",
    "    }, checkpoint_path)\n",
    "    \n",
    "    print('Model saved :)')"
   ]
  },
  {
   "cell_type": "code",
   "execution_count": 45,
   "id": "0120e9bf-3ac9-41a9-8caa-0ab867322283",
   "metadata": {},
   "outputs": [
    {
     "data": {
      "text/plain": [
       "GATNet(\n",
       "  (graph_conv1): GATConv(9, 32, heads=4)\n",
       "  (graph_conv2): GATConv(128, 32, heads=8)\n",
       "  (graph_conv3): GATConv(256, 64, heads=8)\n",
       "  (graph_conv4): GATConv(512, 128, heads=8)\n",
       "  (boundary_conv1): GATConv(3, 32, heads=4)\n",
       "  (boundary_conv2): GATConv(128, 32, heads=8)\n",
       "  (Concatination1): GATConv(1280, 128, heads=8)\n",
       "  (width_layer1): Linear(in_features=1024, out_features=128, bias=True)\n",
       "  (height_layer1): Linear(in_features=1024, out_features=128, bias=True)\n",
       "  (width_output): Linear(in_features=128, out_features=1, bias=True)\n",
       "  (height_output): Linear(in_features=128, out_features=1, bias=True)\n",
       "  (dropout): Dropout(p=0.2, inplace=False)\n",
       ")"
      ]
     },
     "execution_count": 45,
     "metadata": {},
     "output_type": "execute_result"
    }
   ],
   "source": [
    "from torch_geometric.nn import global_max_pool\n",
    "class GATNet(torch.nn.Module):\n",
    "    def __init__(self, num_graph_node_features, num_boundary_node_features):\n",
    "        super(GATNet, self).__init__()\n",
    "        \n",
    "        # Convert input features to float32\n",
    "        self.register_buffer('dtype_template', torch.FloatTensor([1.0]))\n",
    "        \n",
    "        # Graph convolutions\n",
    "        self.graph_conv1 = GATConv(num_graph_node_features, 32, heads=4)  # out: 128\n",
    "        self.graph_conv2 = GATConv(32*4, 32, heads=8)  # out: 256\n",
    "        self.graph_conv3 = GATConv(32*8, 64, heads=8)  # out: 512\n",
    "        self.graph_conv4 = GATConv(64*8, 128, heads=8)  # out: 1024\n",
    "        \n",
    "        # Boundary convolutions\n",
    "        self.boundary_conv1 = GATConv(num_boundary_node_features, 32, heads=4)  # out: 128\n",
    "        self.boundary_conv2 = GATConv(128, 32, heads=8)  # out: 256\n",
    "        \n",
    "        # After concatenating graph (1024) and boundary (256) features\n",
    "        total_features = 1024 + 256  # = 1280\n",
    "        self.Concatination1 = GATConv(total_features, 128, heads=8)  # out: 1024\n",
    "        \n",
    "        # Linear layers\n",
    "        self.width_layer1 = nn.Linear(1024, 128)\n",
    "        self.height_layer1 = nn.Linear(1024, 128)\n",
    "        \n",
    "        self.width_output = nn.Linear(128, 1)\n",
    "        self.height_output = nn.Linear(128, 1)\n",
    "        \n",
    "        self.dropout = torch.nn.Dropout(0.2)\n",
    "        \n",
    "    def forward(self, graph, boundary):\n",
    "        # Ensure input tensors are float32\n",
    "        x_graph = graph.x.type_as(self.dtype_template)\n",
    "        g_edge_index = graph.edge_index\n",
    "        g_edge_attr = graph.edge_attr.type_as(self.dtype_template) if graph.edge_attr is not None else None\n",
    "        g_batch = graph.batch\n",
    "            \n",
    "        x_boundary = boundary.x.type_as(self.dtype_template)\n",
    "        b_edge_index = boundary.edge_index\n",
    "        b_edge_attr = boundary.edge_attr.type_as(self.dtype_template) if boundary.edge_attr is not None else None\n",
    "        b_batch = boundary.batch\n",
    "            \n",
    "        NUM_OF_NODES = x_graph.shape[0]\n",
    "            \n",
    "        if g_batch is None:\n",
    "            g_batch = torch.zeros(x_graph.shape[0], dtype=torch.long, device=x_graph.device)\n",
    "        if b_batch is None:\n",
    "            b_batch = torch.zeros(x_boundary.shape[0], dtype=torch.long, device=x_boundary.device)\n",
    "            \n",
    "        # Graph branch\n",
    "        x_graph = F.leaky_relu(self.graph_conv1(x_graph, g_edge_index, g_edge_attr))\n",
    "        x_graph = self.dropout(x_graph)\n",
    "            \n",
    "        x_graph = F.leaky_relu(self.graph_conv2(x_graph, g_edge_index, g_edge_attr))\n",
    "        x_graph = self.dropout(x_graph)\n",
    "            \n",
    "        x_graph = F.leaky_relu(self.graph_conv3(x_graph, g_edge_index, g_edge_attr))\n",
    "        x_graph = self.dropout(x_graph)\n",
    "            \n",
    "        x_graph = F.leaky_relu(self.graph_conv4(x_graph, g_edge_index, g_edge_attr))\n",
    "        x_graph = self.dropout(x_graph)\n",
    "            \n",
    "        # Boundary branch\n",
    "        x_boundary = F.leaky_relu(self.boundary_conv1(x_boundary, b_edge_index, b_edge_attr))\n",
    "        x_boundary = self.dropout(x_boundary)\n",
    "            \n",
    "        x_boundary = F.leaky_relu(self.boundary_conv2(x_boundary, b_edge_index, b_edge_attr))\n",
    "        x_boundary = self.dropout(x_boundary)\n",
    "            \n",
    "        # Pool boundary features - this creates a single feature vector per graph\n",
    "        x_boundary_pooled = global_max_pool(x_boundary, b_batch)\n",
    "            \n",
    "        # Expand boundary features to match graph nodes\n",
    "        # First, get the number of graphs in the batch\n",
    "        if g_batch.dim() == 1:\n",
    "            num_graphs = g_batch.max().item() + 1\n",
    "        else:\n",
    "            num_graphs = 1\n",
    "                \n",
    "        # Repeat boundary features for each node in the corresponding graph\n",
    "        x_boundary_expanded = []\n",
    "        for i in range(num_graphs):\n",
    "            # Get nodes belonging to this graph\n",
    "            if num_graphs > 1:\n",
    "                mask = (g_batch == i)\n",
    "                num_nodes_in_graph = mask.sum()\n",
    "            else:\n",
    "                num_nodes_in_graph = NUM_OF_NODES\n",
    "                    \n",
    "            # Repeat boundary features for each node\n",
    "            graph_boundary_features = x_boundary_pooled[i:i+1].repeat(num_nodes_in_graph, 1)\n",
    "            x_boundary_expanded.append(graph_boundary_features)\n",
    "            \n",
    "        x_boundary_expanded = torch.cat(x_boundary_expanded, dim=0)\n",
    "            \n",
    "        # Concatenate features\n",
    "        x = torch.cat([x_graph, x_boundary_expanded], dim=1)\n",
    "            \n",
    "        # Final convolution and predictions\n",
    "        x = F.leaky_relu(self.Concatination1(x, g_edge_index))\n",
    "        x = self.dropout(x)\n",
    "            \n",
    "        width = F.relu(self.width_layer1(x))\n",
    "        width = self.dropout(width)\n",
    "        width = self.width_output(width)\n",
    "            \n",
    "        height = F.relu(self.height_layer1(x))\n",
    "        height = self.dropout(height)\n",
    "        height = self.height_output(height)\n",
    "            \n",
    "        return width.squeeze(), height.squeeze()\n",
    "\n",
    "num_graph_node_features = Graphs_pyTorch[0].x.shape[1]\n",
    "num_boundary_node_features = Boundaries_pyTorch[0].x.shape[1]\n",
    "\n",
    "model = GATNet(num_graph_node_features, num_boundary_node_features)\n",
    "\n",
    "device = torch.device('cuda' if torch.cuda.is_available() else 'cpu')\n",
    "model = model.to(device)\n",
    "# import torch\n",
    "# import torch.nn as nn\n",
    "# import torch.nn.functional as F\n",
    "# from torch_geometric.nn import GATConv, global_max_pool\n",
    "\n",
    "# class GATNet(torch.nn.Module):\n",
    "#     def __init__(self, num_graph_node_features, num_boundary_node_features):\n",
    "#         super(GATNet, self).__init__()\n",
    "        \n",
    "#         # Graph convolutions\n",
    "#         self.graph_conv1 = GATConv(num_graph_node_features, 32, heads=4)  # out: 128\n",
    "#         self.graph_conv2 = GATConv(128, 32, heads=8)  # out: 256\n",
    "#         self.graph_conv3 = GATConv(256, 64, heads=8)  # out: 512\n",
    "#         self.graph_conv4 = GATConv(512, 128, heads=8)  # out: 1024\n",
    "        \n",
    "#         # Boundary convolutions\n",
    "#         self.boundary_conv1 = GATConv(num_boundary_node_features, 32, heads=4)  # out: 128\n",
    "#         self.boundary_conv2 = GATConv(128, 32, heads=8)  # out: 256\n",
    "        \n",
    "#         # After concatenating graph (1024) and boundary (256) features\n",
    "#         total_features = 1024 + 256  # = 1280\n",
    "#         self.Concatination1 = GATConv(total_features, 128, heads=8)  # out: 1024\n",
    "        \n",
    "#         # Linear layers\n",
    "#         self.width_layer1 = nn.Linear(1024, 128)\n",
    "#         self.height_layer1 = nn.Linear(1024, 128)\n",
    "        \n",
    "#         self.width_output = nn.Linear(128, 1)\n",
    "#         self.height_output = nn.Linear(128, 1)\n",
    "        \n",
    "#         self.dropout = torch.nn.Dropout(0.2)\n",
    "        \n",
    "#         # BatchNorm1d for each layer output\n",
    "#         self.norm1 = nn.BatchNorm1d(128)  # Matches first GATConv\n",
    "#         self.norm2 = nn.BatchNorm1d(256)  # Matches second GATConv\n",
    "#         self.norm3 = nn.BatchNorm1d(512)  # Matches third GATConv\n",
    "#         self.norm4 = nn.BatchNorm1d(1024) # Matches fourth GATConv\n",
    "        \n",
    "#         self.norm_concat = nn.BatchNorm1d(1280)\n",
    "        \n",
    "#     def forward(self, graph, boundary):\n",
    "#         # Ensure input tensors are float32\n",
    "#         x_graph = graph.x.to(torch.float32)\n",
    "#         g_edge_index = graph.edge_index\n",
    "#         g_edge_attr = graph.edge_attr.to(torch.float32) if graph.edge_attr is not None else None\n",
    "#         g_batch = graph.batch\n",
    "            \n",
    "#         x_boundary = boundary.x.to(torch.float32)\n",
    "#         b_edge_index = boundary.edge_index\n",
    "#         b_edge_attr = boundary.edge_attr.to(torch.float32) if boundary.edge_attr is not None else None\n",
    "#         b_batch = boundary.batch\n",
    "            \n",
    "#         NUM_OF_NODES = x_graph.shape[0]\n",
    "            \n",
    "#         if g_batch is None:\n",
    "#             g_batch = torch.zeros(x_graph.shape[0], dtype=torch.long, device=x_graph.device)\n",
    "#         if b_batch is None:\n",
    "#             b_batch = torch.zeros(x_boundary.shape[0], dtype=torch.long, device=x_boundary.device)\n",
    "            \n",
    "#         # Graph branch\n",
    "#         x_graph = F.leaky_relu(self.graph_conv1(x_graph, g_edge_index, g_edge_attr))\n",
    "#         x_graph = x_graph.permute(1, 0)  # Reshape for BatchNorm1d\n",
    "#         x_graph = self.norm1(x_graph)    # Apply BatchNorm1d\n",
    "#         x_graph = x_graph.permute(1, 0)  # Restore original shape\n",
    "#         x_graph = self.dropout(x_graph)\n",
    "            \n",
    "#         x_graph = F.leaky_relu(self.graph_conv2(x_graph, g_edge_index, g_edge_attr))\n",
    "#         x_graph = x_graph.permute(1, 0)  # Reshape for BatchNorm1d\n",
    "#         x_graph = self.norm2(x_graph)    # Apply BatchNorm1d\n",
    "#         x_graph = x_graph.permute(1, 0)  # Restore original shape\n",
    "#         x_graph = self.dropout(x_graph)\n",
    "            \n",
    "#         x_graph = F.leaky_relu(self.graph_conv3(x_graph, g_edge_index, g_edge_attr))\n",
    "#         x_graph = x_graph.permute(1, 0)  # Reshape for BatchNorm1d\n",
    "#         x_graph = self.norm3(x_graph)    # Apply BatchNorm1d\n",
    "#         x_graph = x_graph.permute(1, 0)  # Restore original shape\n",
    "#         x_graph = self.dropout(x_graph)\n",
    "            \n",
    "#         x_graph = F.leaky_relu(self.graph_conv4(x_graph, g_edge_index, g_edge_attr))\n",
    "#         x_graph = x_graph.permute(1, 0)  # Reshape for BatchNorm1d\n",
    "#         x_graph = self.norm4(x_graph)    # Apply BatchNorm1d\n",
    "#         x_graph = x_graph.permute(1, 0)  # Restore original shape\n",
    "#         x_graph = self.dropout(x_graph)\n",
    "            \n",
    "#         # Boundary branch\n",
    "#         x_boundary = F.leaky_relu(self.boundary_conv1(x_boundary, b_edge_index, b_edge_attr))\n",
    "#         x_boundary = self.dropout(x_boundary)\n",
    "            \n",
    "#         x_boundary = F.leaky_relu(self.boundary_conv2(x_boundary, b_edge_index, b_edge_attr))\n",
    "#         x_boundary = self.dropout(x_boundary)\n",
    "            \n",
    "#         # Pool boundary features - this creates a single feature vector per graph\n",
    "#         x_boundary_pooled = global_max_pool(x_boundary, b_batch)\n",
    "            \n",
    "#         # Expand boundary features to match graph nodes\n",
    "#         # First, get the number of graphs in the batch\n",
    "#         if g_batch.dim() == 1:\n",
    "#             num_graphs = g_batch.max().item() + 1\n",
    "#         else:\n",
    "#             num_graphs = 1\n",
    "                \n",
    "#         # Repeat boundary features for each node in the corresponding graph\n",
    "#         x_boundary_expanded = []\n",
    "#         for i in range(num_graphs):\n",
    "#             # Get nodes belonging to this graph\n",
    "#             if num_graphs > 1:\n",
    "#                 mask = (g_batch == i)\n",
    "#                 num_nodes_in_graph = mask.sum()\n",
    "#             else:\n",
    "#                 num_nodes_in_graph = NUM_OF_NODES\n",
    "                    \n",
    "#             # Repeat boundary features for each node\n",
    "#             graph_boundary_features = x_boundary_pooled[i:i+1].repeat(num_nodes_in_graph, 1)\n",
    "#             x_boundary_expanded.append(graph_boundary_features)\n",
    "            \n",
    "#         x_boundary_expanded = torch.cat(x_boundary_expanded, dim=0)\n",
    "            \n",
    "#         # Concatenate features\n",
    "#         x = torch.cat([x_graph, x_boundary_expanded], dim=1)\n",
    "\n",
    "#         # Apply BatchNorm to concatenated features\n",
    "#         x = x.permute(1, 0)  # Reshape for BatchNorm1d\n",
    "#         x = self.norm_concat(x)  # Apply BatchNorm1d for concatenated features\n",
    "#         x = x.permute(1, 0)  # Restore original shape\n",
    "#         x = self.dropout(x)\n",
    "            \n",
    "#         # Final convolution and predictions\n",
    "#         x = F.leaky_relu(self.Concatination1(x, g_edge_index))\n",
    "#         x = self.dropout(x)\n",
    "            \n",
    "#         width = F.relu(self.width_layer1(x))\n",
    "#         width = self.dropout(width)\n",
    "#         width = self.width_output(width)\n",
    "            \n",
    "#         height = F.relu(self.height_layer1(x))\n",
    "#         height = self.dropout(height)\n",
    "#         height = self.height_output(height)\n",
    "            \n",
    "#         return width.squeeze(), height.squeeze()\n",
    "\n",
    "\n",
    "# # Define model\n",
    "# num_graph_node_features = Graphs_pyTorch[0].x.shape[1]\n",
    "# num_boundary_node_features = Boundaries_pyTorch[0].x.shape[1]\n",
    "\n",
    "# model = GATNet(num_graph_node_features, num_boundary_node_features)\n",
    "\n",
    "# # Move to GPU if available\n",
    "# device = torch.device('cuda' if torch.cuda.is_available() else 'cpu')\n",
    "# model = model.to(device)\n",
    "\n",
    "# # Apply Gradient Clipping Before Each Optimization Step\n",
    "# for param in model.parameters():\n",
    "#     param.register_hook(lambda grad: torch.clamp(grad, -1.0, 1.0))\n",
    "\n",
    "# to monitor the loss & accuracy.\n",
    "errors = []\n",
    "acc = []\n",
    "\n",
    "model       \n",
    "# class GATNet(torch.nn.Module):\n",
    "#     def __init__(self, num_graph_node_features, num_boundary_node_features):\n",
    "#         super(GATNet, self).__init__()\n",
    "        \n",
    "#         # Graph convolution layers\n",
    "#         self.graph_conv1 = GATConv(num_graph_node_features, 64, heads=4)\n",
    "#         self.graph_bn1 = nn.BatchNorm1d(64 * 4)\n",
    "        \n",
    "#         self.graph_conv2 = GATConv(64 * 4, 64, heads=4)\n",
    "#         self.graph_bn2 = nn.BatchNorm1d(64 * 4)\n",
    "        \n",
    "#         self.graph_conv3 = GATConv(64 * 4, 128, heads=4)\n",
    "#         self.graph_bn3 = nn.BatchNorm1d(128 * 4)\n",
    "        \n",
    "#         # Boundary convolution layers\n",
    "#         self.boundary_conv1 = GATConv(num_boundary_node_features, 64, heads=4)\n",
    "#         self.boundary_bn1 = nn.BatchNorm1d(64 * 4)\n",
    "        \n",
    "#         self.boundary_conv2 = GATConv(64 * 4, 128, heads=4)\n",
    "#         self.boundary_bn2 = nn.BatchNorm1d(128 * 4)\n",
    "        \n",
    "#         # Concatenation layer\n",
    "#         concat_size = (128 * 4) + (128 * 4)  # graph + boundary features\n",
    "#         self.concat_conv = GATConv(concat_size, 256, heads=4)\n",
    "#         self.concat_bn = nn.BatchNorm1d(256 * 4)\n",
    "        \n",
    "#         # Output layers\n",
    "#         self.width_fc1 = nn.Linear(256 * 4, 128)\n",
    "#         self.width_bn = nn.BatchNorm1d(128)\n",
    "#         self.width_fc2 = nn.Linear(128, 1)\n",
    "        \n",
    "#         self.height_fc1 = nn.Linear(256 * 4, 128)\n",
    "#         self.height_bn = nn.BatchNorm1d(128)\n",
    "#         self.height_fc2 = nn.Linear(128, 1)\n",
    "        \n",
    "#         self.dropout = nn.Dropout(0.1)\n",
    "#         self.act = nn.LeakyReLU(0.2)\n",
    "        \n",
    "#     def forward(self, graph, boundary):\n",
    "#         # Process graph data\n",
    "#         x_graph = graph.x\n",
    "#         edge_index = graph.edge_index\n",
    "        \n",
    "#         # Graph convolutions with residual connections\n",
    "#         x1 = self.act(self.graph_bn1(self.graph_conv1(x_graph, edge_index)))\n",
    "#         x1 = self.dropout(x1)\n",
    "        \n",
    "#         x2 = self.act(self.graph_bn2(self.graph_conv2(x1, edge_index)))\n",
    "#         x2 = self.dropout(x2)\n",
    "#         x2 = x2 + x1  # Residual connection\n",
    "        \n",
    "#         x3 = self.act(self.graph_bn3(self.graph_conv3(x2, edge_index)))\n",
    "#         x3 = self.dropout(x3)\n",
    "#         x3 = x3 + x2  # Residual connection\n",
    "        \n",
    "#         # Process boundary data\n",
    "#         x_boundary = boundary.x\n",
    "#         boundary_edge_index = boundary.edge_index\n",
    "        \n",
    "#         b1 = self.act(self.boundary_bn1(self.boundary_conv1(x_boundary, boundary_edge_index)))\n",
    "#         b1 = self.dropout(b1)\n",
    "        \n",
    "#         b2 = self.act(self.boundary_bn2(self.boundary_conv2(b1, boundary_edge_index)))\n",
    "#         b2 = self.dropout(b2)\n",
    "        \n",
    "#         # Global pooling for boundary features\n",
    "#         b_pooled = torch.mean(b2, dim=0, keepdim=True)\n",
    "#         b_pooled = b_pooled.repeat(x3.size(0), 1)\n",
    "        \n",
    "#         # Concatenate and process\n",
    "#         x = torch.cat([x3, b_pooled], dim=1)\n",
    "#         x = self.act(self.concat_bn(self.concat_conv(x, edge_index)))\n",
    "#         x = self.dropout(x)\n",
    "        \n",
    "#         # Width prediction\n",
    "#         width = self.act(self.width_bn(self.width_fc1(x)))\n",
    "#         width = self.dropout(width)\n",
    "#         width = self.width_fc2(width)\n",
    "        \n",
    "#         # Height prediction\n",
    "#         height = self.act(self.height_bn(self.height_fc1(x)))\n",
    "#         height = self.dropout(height)\n",
    "#         height = self.height_fc2(height)\n",
    "        \n",
    "#         return width.squeeze(), height.squeeze()\n",
    "# num_graph_node_features = Graphs_pyTorch[0].x.shape[1]\n",
    "# num_boundary_node_features = Boundaries_pyTorch[0].x.shape[1]\n",
    "\n",
    "# model = GATNet(num_graph_node_features, num_boundary_node_features)\n",
    "\n",
    "# device = torch.device('cuda' if torch.cuda.is_available() else 'cpu')\n",
    "# model = model.to(device)\n",
    "\n",
    "# # to monitor the loss & accuracy.\n",
    "# errors = []\n",
    "# acc = []\n",
    "\n",
    "# model      "
   ]
  },
  {
   "cell_type": "code",
   "execution_count": 46,
   "id": "96126b0e-9ec8-497c-b875-0a4372b2f2f0",
   "metadata": {},
   "outputs": [
    {
     "name": "stderr",
     "output_type": "stream",
     "text": [
      "/tmp/ipykernel_1584/2675359122.py:2: FutureWarning: You are using `torch.load` with `weights_only=False` (the current default value), which uses the default pickle module implicitly. It is possible to construct malicious pickle data which will execute arbitrary code during unpickling (See https://github.com/pytorch/pytorch/blob/main/SECURITY.md#untrusted-models for more details). In a future release, the default value for `weights_only` will be flipped to `True`. This limits the functions that could be executed during unpickling. Arbitrary objects will no longer be allowed to be loaded via this mode unless they are explicitly allowlisted by the user via `torch.serialization.add_safe_globals`. We recommend you start setting `weights_only=True` for any use case where you don't have full control of the loaded file. Please open an issue on GitHub for any issues related to this experimental feature.\n",
      "  checkpoint = torch.load(checkpoint_path)\n"
     ]
    },
    {
     "data": {
      "text/plain": [
       "GATNet(\n",
       "  (graph_conv1): GATConv(9, 32, heads=4)\n",
       "  (graph_conv2): GATConv(128, 32, heads=8)\n",
       "  (graph_conv3): GATConv(256, 64, heads=8)\n",
       "  (graph_conv4): GATConv(512, 128, heads=8)\n",
       "  (boundary_conv1): GATConv(3, 32, heads=4)\n",
       "  (boundary_conv2): GATConv(128, 32, heads=8)\n",
       "  (Concatination1): GATConv(1280, 128, heads=8)\n",
       "  (width_layer1): Linear(in_features=1024, out_features=128, bias=True)\n",
       "  (height_layer1): Linear(in_features=1024, out_features=128, bias=True)\n",
       "  (width_output): Linear(in_features=128, out_features=1, bias=True)\n",
       "  (height_output): Linear(in_features=128, out_features=1, bias=True)\n",
       "  (dropout): Dropout(p=0.2, inplace=False)\n",
       ")"
      ]
     },
     "execution_count": 46,
     "metadata": {},
     "output_type": "execute_result"
    }
   ],
   "source": [
    "checkpoint_path = \"/workspace/Floor_plan_generation/best_model.pth\"\n",
    "checkpoint = torch.load(checkpoint_path)\n",
    "\n",
    "optimizer = torch.optim.Adam(model.parameters(), lr=0.001)\n",
    "\n",
    "\n",
    "model.load_state_dict(checkpoint['model_state_dict'])\n",
    "optimizer.load_state_dict(checkpoint['optimizer_state_dict'])\n",
    "epochs = checkpoint['epoch']\n",
    "\n",
    "model.eval()"
   ]
  },
  {
   "cell_type": "code",
   "execution_count": 47,
   "id": "2eb53c7d-1c8b-49e1-b1eb-02b6d7a0759c",
   "metadata": {},
   "outputs": [],
   "source": [
    "class FloorPlan_multipolygon():\n",
    "    def __init__(self, graph, prediction=None):\n",
    "        self.graph       = graph\n",
    "        self.prediction  = prediction\n",
    "        \n",
    "    def get_room_data(self, room_index):\n",
    "        \"\"\"\n",
    "        Inputs: \n",
    "            room_index: index of the room in the graph\n",
    "            \n",
    "        Outputs: \n",
    "            centroid, w, h of that room.\n",
    "        \"\"\"\n",
    "        # # Using networkX graphs\n",
    "        # Graph_data = list(self.graph.nodes(data=True))[room_index][1]\n",
    "        # w = Graph_data['rec_w']\n",
    "        # h = Graph_data['rec_h']\n",
    "        # centroid = (Graph_data['actualCentroid_x'], Graph_data['actualCentroid_y'])\n",
    "        # category = Graph_data['roomType_embd']\n",
    "        \n",
    "        # Using pytorhc Garphs\n",
    "        w = self.graph.rec_w[room_index].item()\n",
    "        h = self.graph.rec_h[room_index].item()\n",
    "        centroid = (self.graph.x[room_index][-2].item(), self.graph.x[room_index][-1].item())\n",
    "        category = torch.argmax(self.graph.x[:, :7][room_index]).item()\n",
    "        \n",
    "        if isinstance(self.prediction, tuple): # A  real array of predictions\n",
    "            w_pre, h_pre = self.get_predictions(room_index)\n",
    "            \n",
    "        else:\n",
    "            w_pre, h_pre = None, None\n",
    "            \n",
    "        data = {\n",
    "            'centroid': centroid,\n",
    "            'real_w': w,\n",
    "            'real_h': h, \n",
    "            'predic_w': w_pre,\n",
    "            'predic_h': h_pre,\n",
    "            'category': category\n",
    "        }\n",
    "        return data\n",
    "    \n",
    "    def create_box(self, room_data):\n",
    "        \"\"\"\n",
    "        Inputs:\n",
    "            room_data: a dictionary with centroid, w, h of that room.\n",
    "            \n",
    "        Outputs:\n",
    "            box: a shapely box with the same centroid, w, h of that room.\n",
    "        \"\"\"\n",
    "        \n",
    "        centroid = room_data['centroid']\n",
    "        # print(centroid)\n",
    "        if isinstance(self.prediction, tuple): # A  real array of predictions\n",
    "            half_w   = room_data['predic_w'] / 2\n",
    "            half_h   = room_data['predic_h'] / 2\n",
    "        \n",
    "        else:\n",
    "            half_w   = room_data['real_w'] / 2\n",
    "            half_h   = room_data['real_h'] / 2\n",
    "\n",
    "        # bottom_left  = Point(centroid[0] - half_w, centroid[1] - half_h)\n",
    "        # bottom_right = Point(centroid[0] + half_w, centroid[1] - half_h)\n",
    "        # top_right    = Point(centroid[0] + half_w, centroid[1] + half_h)\n",
    "        # top_left     = Point(centroid[0] - half_w, centroid[1] + half_h)\n",
    "        \n",
    "        x1 = centroid[0] - half_w\n",
    "        x2 = centroid[0] + half_w\n",
    "        y1 = centroid[1] - half_h\n",
    "        y2 = centroid[1] + half_h\n",
    "        \n",
    "        # print(bottom_left, bottom_right, top_right, top_left)\n",
    "        # box = Polygon([bottom_left, bottom_right, top_right, top_left])\n",
    "        box_poly = box(x1, y1, x2, y2)\n",
    "        return box_poly\n",
    "\n",
    "    def get_multipoly(self, boundary=False, door=False):\n",
    "        \"\"\"\n",
    "        Outputs:\n",
    "            multi_poly: a shapely multipolygon of all the rooms in the floor plan or graph.\n",
    "        \"\"\"\n",
    "        num_of_rooms = self.graph.x.shape[0]\n",
    "        similar_polygons = defaultdict(list)\n",
    "        \n",
    "        for index in range(num_of_rooms):\n",
    "            room_data = self.get_room_data(index)\n",
    "            box = self.create_box(room_data)\n",
    "            box = box.intersection(boundary.buffer(-3, cap_style=3, join_style=2))\n",
    "        \n",
    "            # add each pox to its similar boxes\n",
    "            room_category = room_data['category']\n",
    "            if room_category != 0:\n",
    "                similar_polygons[room_category].append(box)\n",
    "        \n",
    "\n",
    "        all_polygons = []\n",
    "        all_polygons.append(boundary)\n",
    "        similar_polygons_2 = defaultdict(list)\n",
    "        for room_category, polygons in similar_polygons.items():\n",
    "            if room_category in (2, 3): # If bathroom or kitchen.\n",
    "                # combined_polygon = unary_union(polygons)\n",
    "                # all_polygons.append(combined_polygon)\n",
    "                # for poly in polygons:\n",
    "                #     similar_polygons_2[room_category].append(poly)\n",
    "                \n",
    "                for bath_or_kitchen in polygons:\n",
    "                    if any(bath_or_kitchen.intersects(room) for room in similar_polygons[1]): # Chcek if the current bathroom or kitchen intersectes with any room\n",
    "                        for i, room in enumerate(similar_polygons[1]):\n",
    "                            if bath_or_kitchen.intersects(room):\n",
    "                                intersection = bath_or_kitchen.intersection(room)\n",
    "                                if intersection.area >= (0.3 * bath_or_kitchen.area):\n",
    "                                    # new_bath_or_kitchen = intersection\n",
    "                                    print('>= 50%')\n",
    "                                    bath_or_kitchen = bath_or_kitchen.intersection(room.buffer(-3, cap_style=3, join_style=2))\n",
    "                                    # bath_or_kitchen   = room.intersection(bath_or_kitchen.buffer(-3, cap_style=3, join_style=3))\n",
    "                                else:\n",
    "                                    print('Not >= 50%')\n",
    "                                    ## If we need to cut from the room\n",
    "                                    # new_room = room.difference(intersection.buffer(50))\n",
    "                                    # similar_polygons[1][i] = new_room\n",
    "                                    \n",
    "                                    ## If we need to cut from the bathroom or kitchen\n",
    "                                    bath_or_kitchen = bath_or_kitchen.difference(intersection.buffer(4))\n",
    "                                    \n",
    "                    similar_polygons_2[room_category].append(bath_or_kitchen)\n",
    "\n",
    "            else: # If rooms\n",
    "                existing_polygons = []\n",
    "                for poly in polygons: # for room in rooms\n",
    "                    # print(f'Current poly: {poly.centroid}')\n",
    "                    if any(poly.intersects(exist) for exist in existing_polygons):\n",
    "                        for exist in existing_polygons:\n",
    "                            if poly.intersects(exist): # If there is an intersection between current poly and the checking polygon.\n",
    "                                # print(f'Intersects with: {exist.centroid}')\n",
    "                                intersection = poly.intersection(exist)\n",
    "                                if exist.area > poly.area:\n",
    "                                    # print('1')\n",
    "                                    difference_polygon = exist.difference(intersection.buffer(4))\n",
    "                                    \n",
    "                                    # We cut from the exist so we will remove the old version and add the new version.\n",
    "                                    similar_polygons_2[room_category].remove(exist)\n",
    "                                    similar_polygons_2[room_category].append(difference_polygon)\n",
    "                                    \n",
    "                                    # Also we add the current polygon.\n",
    "                                    similar_polygons_2[room_category].append(poly)\n",
    "                                    \n",
    "                                    # The same step we didi in similar_polygons_2 we make it here to make the existing_polys the same.\n",
    "                                    existing_polygons.remove(exist)\n",
    "                                    existing_polygons.append(difference_polygon)\n",
    "                                    \n",
    "                                    existing_polygons.append(poly)\n",
    "                                    \n",
    "                                else:\n",
    "                                    # print('2')\n",
    "                                    difference_polygon = poly.difference(intersection.buffer(4))\n",
    "                                    similar_polygons_2[room_category].append(difference_polygon)\n",
    "                                    # existing_polygons.append(difference_polygon)\n",
    "                                    # similar_polygons_2[room_category].append(exist)\n",
    "                                    \n",
    "                    else: # For the first one\n",
    "                        # print('No intersection')\n",
    "                        existing_polygons.append(poly)\n",
    "                        similar_polygons_2[room_category].append(poly)\n",
    "                        \n",
    "                        \n",
    "        for _, polygons in similar_polygons_2.items():\n",
    "            all_polygons.append(MultiPolygon(polygons))\n",
    "        \n",
    "        if door:\n",
    "            all_polygons.append(door)\n",
    "            \n",
    "        compined_polygons_seperated = gpd.GeoSeries(all_polygons)\n",
    "        \n",
    "        return compined_polygons_seperated\n",
    "        \n",
    "    def get_predictions(self, room_index):\n",
    "        \"\"\"\n",
    "        Inputs: \n",
    "            room_index: index of the room in the graph\n",
    "        outputs: \n",
    "            w_predicted: predicted width for that room\n",
    "            h_predicted: predicted width for that room\n",
    "        \"\"\"\n",
    "        w_predicted = self.prediction[0]\n",
    "        h_predicted = self.prediction[1]\n",
    "        \n",
    "        return w_predicted[room_index], h_predicted[room_index]"
   ]
  },
  {
   "cell_type": "code",
   "execution_count": 48,
   "id": "29fbe592-c890-4b43-9293-d5e5c9b837e0",
   "metadata": {},
   "outputs": [
    {
     "name": "stdout",
     "output_type": "stream",
     "text": [
      "-7\n"
     ]
    },
    {
     "name": "stderr",
     "output_type": "stream",
     "text": [
      "/usr/local/lib/python3.12/dist-packages/torch_geometric/warnings.py:11: UserWarning: The usage of `scatter(reduce='max')` can be accelerated via the 'torch-scatter' package, but it was not found\n",
      "  warnings.warn(message)\n"
     ]
    }
   ],
   "source": [
    "# rand = np.random.randint(0, 80000)\n",
    "Graph_index = -7\n",
    "print(Graph_index)\n",
    "# Graph and Boundary with normalized x, y\n",
    "G = Graphs_pyTorch[Graph_index]\n",
    "B = Boundaries_pyTorch[Graph_index]\n",
    "\n",
    "# Using the same data types in boundaries as in graphs, must for the model.\n",
    "B.x = B.x.to(G.x.dtype)\n",
    "B.edge_index = B.edge_index.to(G.edge_index.dtype)\n",
    "B.edge_attr = B.edge_attr.to(G.edge_attr.dtype)\n",
    "\n",
    "# Get our predictions\n",
    "predictions = model(G.to(device), B.to(device))\n",
    "\n",
    "\n",
    "# Get back the real x, y of the centroids to put them in their real places.\n",
    "G = Graphs_pyTorch[Graph_index]\n",
    "G.x[:, -2] = G.x[:, -2] * x_g_std + x_g_mean\n",
    "G.x[:, -1] = G.x[:, -1] * y_g_std + y_g_mean\n",
    "\n",
    "B.x[:, -2] = B.x[:, -2] * x_b_std + x_b_mean\n",
    "B.x[:, -1] = B.x[:, -1] * y_b_std + y_b_mean"
   ]
  },
  {
   "cell_type": "code",
   "execution_count": 52,
   "id": "b442a19b-f096-48c0-a5cc-67919c18d61d",
   "metadata": {},
   "outputs": [
    {
     "data": {
      "image/svg+xml": [
       "<svg xmlns=\"http://www.w3.org/2000/svg\" xmlns:xlink=\"http://www.w3.org/1999/xlink\" width=\"100.0\" height=\"100.0\" viewBox=\"144.89483146067414 175.09707865168537 6.480000000000018 6.480000000000018\" preserveAspectRatio=\"xMinYMin meet\"><g transform=\"matrix(1,0,0,-1,0,356.67415730337075)\"><path fill-rule=\"evenodd\" fill=\"#66cc99\" stroke=\"#555555\" stroke-width=\"0.12960000000000035\" opacity=\"0.6\" d=\"M 151.13483146067415,178.33707865168537 L 151.12038564069073,178.04302723069668 L 151.07718730188384,177.75180768563698 L 151.0056524678708,177.46622461992197 L 150.90647005820801,177.1890283545901 L 150.7805952537192,176.9228884412074 L 150.6292402975818,176.67036795262658 L 150.45386282076237,176.43389879919442 L 150.25615180423378,176.21575830812574 L 150.0380113131651,176.01804729159716 L 149.80154215973295,175.84266981477774 L 149.54902167115213,175.6913148586403 L 149.28288175776942,175.5654400541515 L 149.00568549243755,175.46625764448873 L 148.72010242672255,175.39472281047568 L 148.42888288166284,175.3515244716688 L 148.13483146067415,175.33707865168537 L 147.84078003968546,175.3515244716688 L 147.54956049462575,175.39472281047568 L 147.26397742891075,175.46625764448873 L 146.98678116357888,175.5654400541515 L 146.72064125019617,175.6913148586403 L 146.46812076161535,175.84266981477774 L 146.2316516081832,176.01804729159716 L 146.01351111711452,176.21575830812574 L 145.81580010058593,176.43389879919442 L 145.6404226237665,176.67036795262658 L 145.4890676676291,176.9228884412074 L 145.36319286314028,177.1890283545901 L 145.2640104534775,177.46622461992197 L 145.19247561946446,177.75180768563698 L 145.14927728065757,178.04302723069668 L 145.13483146067415,178.33707865168537 L 145.14927728065757,178.63113007267407 L 145.19247561946446,178.92234961773377 L 145.2640104534775,179.20793268344877 L 145.36319286314028,179.48512894878064 L 145.4890676676291,179.75126886216336 L 145.6404226237665,180.00378935074417 L 145.81580010058593,180.2402585041763 L 146.01351111711452,180.458398995245 L 146.2316516081832,180.6561100117736 L 146.46812076161535,180.831487488593 L 146.72064125019617,180.98284244473044 L 146.98678116357888,181.10871724921924 L 147.26397742891075,181.207899658882 L 147.54956049462575,181.27943449289506 L 147.84078003968546,181.32263283170195 L 148.13483146067415,181.33707865168537 L 148.42888288166284,181.32263283170195 L 148.72010242672255,181.27943449289506 L 149.00568549243752,181.207899658882 L 149.28288175776942,181.10871724921924 L 149.54902167115213,180.98284244473044 L 149.80154215973295,180.831487488593 L 150.0380113131651,180.6561100117736 L 150.25615180423378,180.458398995245 L 150.45386282076237,180.24025850417632 L 150.6292402975818,180.00378935074417 L 150.7805952537192,179.75126886216336 L 150.90647005820801,179.48512894878064 L 151.0056524678708,179.20793268344877 L 151.07718730188384,178.92234961773377 L 151.12038564069073,178.63113007267407 L 151.13483146067415,178.33707865168537 z\" /></g></svg>"
      ],
      "text/plain": [
       "<POLYGON ((151.135 178.337, 151.12 178.043, 151.077 177.752, 151.006 177.466...>"
      ]
     },
     "execution_count": 52,
     "metadata": {},
     "output_type": "execute_result"
    }
   ],
   "source": [
    "from shapely.geometry import Point\n",
    "\n",
    "the_door = Point(B.x[-1][1:].detach().cpu().numpy())\n",
    "the_door.buffer(3)"
   ]
  },
  {
   "cell_type": "code",
   "execution_count": 56,
   "id": "81fecf1e-16d6-42d0-9bdc-47c6af4e060c",
   "metadata": {},
   "outputs": [
    {
     "data": {
      "image/png": "[encoded data removed]",
      "text/plain": [
       "<Figure size 640x480 with 1 Axes>"
      ]
     },
     "metadata": {},
     "output_type": "display_data"
    }
   ],
   "source": [
    "Bou_x = B.x[:-1, :]\n",
    "# Bou_x = B.x\n",
    "boundary_centroids = [(Bou_x[n-1, -2:][0].item(), Bou_x[n-1, -2:][1].item()) for n in range(len(Bou_x))]\n",
    "boundary_polygon = Polygon(boundary_centroids)\n",
    "\n",
    "\n",
    "hi = unary_union([boundary_polygon, the_door.buffer(10, cap_style=3, join_style=2)])\n",
    "gpd.GeoSeries(hi).plot(cmap='twilight');"
   ]
  },
  {
   "cell_type": "code",
   "execution_count": 61,
   "id": "f998d026-3763-4eea-b292-851ef58248a7",
   "metadata": {},
   "outputs": [
    {
     "data": {
      "image/png": "[encoded data removed]",
      "text/plain": [
       "<Figure size 400x400 with 1 Axes>"
      ]
     },
     "metadata": {},
     "output_type": "display_data"
    }
   ],
   "source": [
    "inputs = G.x.detach().cpu().numpy()\n",
    "polys = defaultdict(list)\n",
    "\n",
    "for poly in inputs:\n",
    "    type = np.argmax(poly[:-2])\n",
    "    if type != 0:\n",
    "        point = poly[-2:]\n",
    "        polys[type].append(Point(point))\n",
    "\n",
    "Input_format = []\n",
    "Input_format.append(boundary_polygon)\n",
    "\n",
    "for _, points in polys.items():\n",
    "            Input_format.append(unary_union(points))\n",
    "            \n",
    "gpd.GeoSeries(Input_format).plot(cmap='twilight', figsize=(4, 4), alpha=1, linewidth=0.5, edgecolor='black');"
   ]
  },
  {
   "cell_type": "code",
   "execution_count": 66,
   "id": "aa552c5b-7619-454a-8444-b6ac5693aec1",
   "metadata": {},
   "outputs": [
    {
     "data": {
      "image/png": "[encoded data removed]",
      "text/plain": [
       "<Figure size 400x400 with 1 Axes>"
      ]
     },
     "metadata": {},
     "output_type": "display_data"
    }
   ],
   "source": [
    "f = FloorPlan_multipolygon(G, prediction=None)\n",
    "polys = f.get_multipoly(boundary_polygon, the_door);\n",
    "polys.plot(cmap='twilight', figsize=(4, 4), alpha=0.8, linewidth=0.8, edgecolor='black');"
   ]
  },
  {
   "cell_type": "code",
   "execution_count": 67,
   "id": "b5fea141-2ecd-4f41-b8a5-109e3105412c",
   "metadata": {},
   "outputs": [
    {
     "data": {
      "image/png": "[encoded data removed]",
      "text/plain": [
       "<Figure size 400x400 with 1 Axes>"
      ]
     },
     "metadata": {},
     "output_type": "display_data"
    }
   ],
   "source": [
    "w = predictions[0].detach().cpu().numpy()\n",
    "h = predictions[1].detach().cpu().numpy()\n",
    "w_h_predicted = (w, h)\n",
    "\n",
    "test = FloorPlan_multipolygon(G, prediction=w_h_predicted)\n",
    "\n",
    "polys = test.get_multipoly(boundary_polygon, the_door);\n",
    "polys.plot(cmap='twilight', figsize=(4, 4), alpha=0.8, linewidth=0.8, edgecolor='black');"
   ]
  },
  {
   "cell_type": "code",
   "execution_count": null,
   "id": "a59cd37b-5aed-4033-8c68-f9237545a367",
   "metadata": {},
   "outputs": [],
   "source": []
  }
 ],
 "metadata": {
  "kernelspec": {
   "display_name": "Python 3 (ipykernel)",
   "language": "python",
   "name": "python3"
  },
  "language_info": {
   "codemirror_mode": {
    "name": "ipython",
    "version": 3
   },
   "file_extension": ".py",
   "mimetype": "text/x-python",
   "name": "python",
   "nbconvert_exporter": "python",
   "pygments_lexer": "ipython3",
   "version": "3.12.3"
  }
 },
 "nbformat": 4,
 "nbformat_minor": 5
}
